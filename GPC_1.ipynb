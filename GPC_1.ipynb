{
 "cells": [
  {
   "cell_type": "code",
   "execution_count": null,
   "metadata": {
    "collapsed": true
   },
   "outputs": [],
   "source": [
    "g = nx.read_gexf(path=\"./train/4.gexf\")\n",
    "n = g.number_of_nodes()\n",
    "print(n)\n",
    "\n",
    "pairs = set(list(g.nodes()))\n",
    "arr = []\n",
    "lst = list(g.nodes())\n",
    "\n",
    "for i in range(0,len(lst)):\n",
    "    for j in range(i+1,len(lst)):\n",
    "        arr.append((lst[i],lst[j]))\n",
    "print(arr)\n",
    "\n",
    "ei_arr = list(set((a,b) if a<=b else (b,a) for a,b in arr))\n",
    "\n",
    "for i in range(0,n):\n",
    "    for j in range(i+1,n):\n",
    "        ei_arr.append((str(i),str(j)))\n",
    "\n",
    "for edge in g.edges():\n",
    "    if (edge[0], edge[1]) in ei_arr:\n",
    "        ei_arr.remove((edge[0],edge[1]))\n",
    "    else:\n",
    "        ei_arr.remove((edge[1],edge[0]))\n",
    "\n",
    "for edge in Del_Edge:\n",
    "    if (edge[0], edge[1]) in ei_arr:\n",
    "        ei_arr.remove((edge[0],edge[1]))\n",
    "    else:\n",
    "        ei_arr.remove((edge[1],edge[0]))\n",
    "\n",
    "\n",
    "\n",
    "\n",
    "\n",
    "print(ei_arr, len(ei_arr))"
   ]
  }
 ],
 "metadata": {
  "kernelspec": {
   "display_name": "Python 3",
   "language": "python",
   "name": "python3"
  },
  "language_info": {
   "codemirror_mode": {
    "name": "ipython",
    "version": 2
   },
   "file_extension": ".py",
   "mimetype": "text/x-python",
   "name": "python",
   "nbconvert_exporter": "python",
   "pygments_lexer": "ipython2",
   "version": "2.7.6"
  }
 },
 "nbformat": 4,
 "nbformat_minor": 0
}