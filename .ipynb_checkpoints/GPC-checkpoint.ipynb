{
 "cells": [
  {
   "cell_type": "code",
   "execution_count": null,
   "metadata": {
    "ExecuteTime": {
     "start_time": "2022-10-12T01:26:23.210Z"
    },
    "id": "apUkL85-v7Eq",
    "pycharm": {
     "is_executing": true
    }
   },
   "outputs": [],
   "source": [
    "import sys\n",
    "print(sys.executable)\n",
    "import os\n",
    "import random\n",
    "import networkx as nx\n",
    "from matplotlib import pyplot as plt\n",
    "import pylab\n",
    "import re\n",
    "import torch\n",
    "import numpy as np\n"
   ]
  },
  {
   "cell_type": "code",
   "execution_count": null,
   "metadata": {
    "id": "XU6arrQyv7Es",
    "outputId": "25b60c80-6ebe-43ef-a6b4-b4b8c24a9933",
    "pycharm": {
     "is_executing": true,
     "name": "#%%\n"
    }
   },
   "outputs": [],
   "source": [
    "dirName = os.getcwd()+'\\\\train'\n",
    "filenames = os.listdir(dirName)\n",
    "Node_Types = []\n",
    "Edge_Types = []\n",
    "for filename in filenames:\n",
    "    if filename.endswith(\".gexf\"):\n",
    "        #print(filename)\n",
    "        temp =  nx.read_gexf(path=dirName+\"\\\\\"+filename)\n",
    "        for node in temp.nodes:\n",
    "            temp_type = temp.nodes[node]['type']\n",
    "            if temp_type not in Node_Types:\n",
    "                Node_Types.append(temp_type)\n",
    "        for edge in temp.edges:\n",
    "            temp_type = temp.edges[edge]['valence']\n",
    "            if temp_type not in Edge_Types:\n",
    "                Edge_Types.append(temp_type)\n",
    "\n",
    "print(Node_Types)\n",
    "print(Edge_Types)"
   ]
  },
  {
   "cell_type": "code",
   "execution_count": 16,
   "metadata": {
    "id": "rZeQE_rRv7Et",
    "outputId": "88e6493f-9d4d-49ba-c155-3c1ea21d430c",
    "pycharm": {
     "name": "#%%\n"
    }
   },
   "outputs": [
    {
     "name": "stdout",
     "output_type": "stream",
     "text": [
      "10 nodes:\n",
      " ['7', '3', '5', '8', '6', '1', '9', '0', '4', '2']\n",
      "9 edges:\n",
      " [('7', '3'), ('3', '1'), ('3', '8'), ('3', '9'), ('5', '2'), ('6', '2'), ('1', '0'), ('0', '2'), ('4', '2')]\n",
      "{('7', '3'): 2, ('3', '1'): 1, ('3', '8'): 2, ('3', '9'): 1, ('5', '2'): 2, ('6', '2'): 1, ('1', '0'): 1, ('0', '2'): 1, ('4', '2'): 2}\n",
      "{'7': 'O', '3': 'S', '5': 'O', '8': 'O', '6': 'O', '1': 'C', '9': 'O', '0': 'C', '4': 'O', '2': 'S'}\n"
     ]
    },
    {
     "ename": "ValueError",
     "evalue": "Received invalid argument(s): edge_labels",
     "output_type": "error",
     "traceback": [
      "\u001b[1;31m---------------------------------------------------------------------------\u001b[0m",
      "\u001b[1;31mValueError\u001b[0m                                Traceback (most recent call last)",
      "Cell \u001b[1;32mIn [16], line 43\u001b[0m\n\u001b[0;32m     41\u001b[0m \u001b[38;5;28mprint\u001b[39m(\u001b[38;5;28mstr\u001b[39m(g\u001b[38;5;241m.\u001b[39mnumber_of_nodes())\u001b[38;5;241m+\u001b[39m\u001b[38;5;124m\"\u001b[39m\u001b[38;5;124m nodes:\u001b[39m\u001b[38;5;130;01m\\n\u001b[39;00m\u001b[38;5;124m\"\u001b[39m,\u001b[38;5;28mlist\u001b[39m(g\u001b[38;5;241m.\u001b[39mnodes))\n\u001b[0;32m     42\u001b[0m \u001b[38;5;28mprint\u001b[39m(\u001b[38;5;28mstr\u001b[39m(g\u001b[38;5;241m.\u001b[39mnumber_of_edges())\u001b[38;5;241m+\u001b[39m\u001b[38;5;124m\"\u001b[39m\u001b[38;5;124m edges:\u001b[39m\u001b[38;5;130;01m\\n\u001b[39;00m\u001b[38;5;124m\"\u001b[39m,\u001b[38;5;28mlist\u001b[39m(g\u001b[38;5;241m.\u001b[39medges))\n\u001b[1;32m---> 43\u001b[0m \u001b[43mdraw\u001b[49m\u001b[43m(\u001b[49m\u001b[43mg\u001b[49m\u001b[43m)\u001b[49m\n",
      "Cell \u001b[1;32mIn [16], line 37\u001b[0m, in \u001b[0;36mdraw\u001b[1;34m(g)\u001b[0m\n\u001b[0;32m     36\u001b[0m \u001b[38;5;28;01mdef\u001b[39;00m \u001b[38;5;21mdraw\u001b[39m(g):\n\u001b[1;32m---> 37\u001b[0m     \u001b[43mdraw_type\u001b[49m\u001b[43m(\u001b[49m\u001b[43mg\u001b[49m\u001b[43m)\u001b[49m\n\u001b[0;32m     38\u001b[0m     draw_id(g)\n",
      "Cell \u001b[1;32mIn [16], line 22\u001b[0m, in \u001b[0;36mdraw_type\u001b[1;34m(g)\u001b[0m\n\u001b[0;32m     20\u001b[0m \u001b[38;5;28mprint\u001b[39m(node_labels)\n\u001b[0;32m     21\u001b[0m \u001b[38;5;66;03m#nx.draw(g, pos, labels=node_labels, edge_labels=edge_labels, node_size=500, node_color=node_color_lst)\u001b[39;00m\n\u001b[1;32m---> 22\u001b[0m \u001b[43mnx\u001b[49m\u001b[38;5;241;43m.\u001b[39;49m\u001b[43mdraw\u001b[49m\u001b[43m(\u001b[49m\u001b[43mg\u001b[49m\u001b[43m,\u001b[49m\u001b[43m \u001b[49m\u001b[43mpos\u001b[49m\u001b[43m,\u001b[49m\u001b[43m \u001b[49m\u001b[43mlabels\u001b[49m\u001b[38;5;241;43m=\u001b[39;49m\u001b[43mnode_labels\u001b[49m\u001b[43m,\u001b[49m\u001b[43m \u001b[49m\u001b[43medge_labels\u001b[49m\u001b[38;5;241;43m=\u001b[39;49m\u001b[43medge_labels\u001b[49m\u001b[43m,\u001b[49m\u001b[43m \u001b[49m\u001b[43mnode_size\u001b[49m\u001b[38;5;241;43m=\u001b[39;49m\u001b[38;5;241;43m500\u001b[39;49m\u001b[43m)\u001b[49m\n\u001b[0;32m     23\u001b[0m nx\u001b[38;5;241m.\u001b[39mdraw_networkx_edge_labels(g,pos,edge_labels\u001b[38;5;241m=\u001b[39medge_labels)\n\u001b[0;32m     24\u001b[0m pylab\u001b[38;5;241m.\u001b[39mshow()\n",
      "File \u001b[1;32mC:\\Python310\\lib\\site-packages\\networkx\\drawing\\nx_pylab.py:121\u001b[0m, in \u001b[0;36mdraw\u001b[1;34m(G, pos, ax, **kwds)\u001b[0m\n\u001b[0;32m    118\u001b[0m \u001b[38;5;28;01mif\u001b[39;00m \u001b[38;5;124m\"\u001b[39m\u001b[38;5;124mwith_labels\u001b[39m\u001b[38;5;124m\"\u001b[39m \u001b[38;5;129;01mnot\u001b[39;00m \u001b[38;5;129;01min\u001b[39;00m kwds:\n\u001b[0;32m    119\u001b[0m     kwds[\u001b[38;5;124m\"\u001b[39m\u001b[38;5;124mwith_labels\u001b[39m\u001b[38;5;124m\"\u001b[39m] \u001b[38;5;241m=\u001b[39m \u001b[38;5;124m\"\u001b[39m\u001b[38;5;124mlabels\u001b[39m\u001b[38;5;124m\"\u001b[39m \u001b[38;5;129;01min\u001b[39;00m kwds\n\u001b[1;32m--> 121\u001b[0m draw_networkx(G, pos\u001b[38;5;241m=\u001b[39mpos, ax\u001b[38;5;241m=\u001b[39max, \u001b[38;5;241m*\u001b[39m\u001b[38;5;241m*\u001b[39mkwds)\n\u001b[0;32m    122\u001b[0m ax\u001b[38;5;241m.\u001b[39mset_axis_off()\n\u001b[0;32m    123\u001b[0m plt\u001b[38;5;241m.\u001b[39mdraw_if_interactive()\n",
      "File \u001b[1;32mC:\\Python310\\lib\\site-packages\\networkx\\drawing\\nx_pylab.py:294\u001b[0m, in \u001b[0;36mdraw_networkx\u001b[1;34m(G, pos, arrows, with_labels, **kwds)\u001b[0m\n\u001b[0;32m    292\u001b[0m \u001b[38;5;28;01mif\u001b[39;00m \u001b[38;5;28many\u001b[39m([k \u001b[38;5;129;01mnot\u001b[39;00m \u001b[38;5;129;01min\u001b[39;00m valid_kwds \u001b[38;5;28;01mfor\u001b[39;00m k \u001b[38;5;129;01min\u001b[39;00m kwds]):\n\u001b[0;32m    293\u001b[0m     invalid_args \u001b[38;5;241m=\u001b[39m \u001b[38;5;124m\"\u001b[39m\u001b[38;5;124m, \u001b[39m\u001b[38;5;124m\"\u001b[39m\u001b[38;5;241m.\u001b[39mjoin([k \u001b[38;5;28;01mfor\u001b[39;00m k \u001b[38;5;129;01min\u001b[39;00m kwds \u001b[38;5;28;01mif\u001b[39;00m k \u001b[38;5;129;01mnot\u001b[39;00m \u001b[38;5;129;01min\u001b[39;00m valid_kwds])\n\u001b[1;32m--> 294\u001b[0m     \u001b[38;5;28;01mraise\u001b[39;00m \u001b[38;5;167;01mValueError\u001b[39;00m(\u001b[38;5;124mf\u001b[39m\u001b[38;5;124m\"\u001b[39m\u001b[38;5;124mReceived invalid argument(s): \u001b[39m\u001b[38;5;132;01m{\u001b[39;00minvalid_args\u001b[38;5;132;01m}\u001b[39;00m\u001b[38;5;124m\"\u001b[39m)\n\u001b[0;32m    296\u001b[0m node_kwds \u001b[38;5;241m=\u001b[39m {k: v \u001b[38;5;28;01mfor\u001b[39;00m k, v \u001b[38;5;129;01min\u001b[39;00m kwds\u001b[38;5;241m.\u001b[39mitems() \u001b[38;5;28;01mif\u001b[39;00m k \u001b[38;5;129;01min\u001b[39;00m valid_node_kwds}\n\u001b[0;32m    297\u001b[0m edge_kwds \u001b[38;5;241m=\u001b[39m {k: v \u001b[38;5;28;01mfor\u001b[39;00m k, v \u001b[38;5;129;01min\u001b[39;00m kwds\u001b[38;5;241m.\u001b[39mitems() \u001b[38;5;28;01mif\u001b[39;00m k \u001b[38;5;129;01min\u001b[39;00m valid_edge_kwds}\n",
      "\u001b[1;31mValueError\u001b[0m: Received invalid argument(s): edge_labels"
     ]
    },
    {
     "data": {
      "image/png": "[encoded data removed]",
      "text/plain": [
       "<Figure size 640x480 with 1 Axes>"
      ]
     },
     "metadata": {},
     "output_type": "display_data"
    }
   ],
   "source": [
    "color_set = []\n",
    "for i in range(0,len(Node_Types)):\n",
    "    r = lambda: random.randint(0,255)\n",
    "    color_set.append('#{:02x}{:02x}{:02x}'.format(r(), r(), r()))\n",
    "\n",
    "def draw_type(g):\n",
    "#    node_color_lst = []\n",
    "#    node_type_lst =  []\n",
    "#    for node in list(g.nodes()):\n",
    "#        temp = g.node[node]['type']\n",
    "#        if temp not in node_type_lst:\n",
    "#            index = Node_Types.index(temp)\n",
    "#            node_color_lst.append(color_set[index])\n",
    "#            node_type_lst.append(temp)\n",
    "\n",
    "    pos = nx.spring_layout(g)\n",
    "    edge_labels = dict([((n1, n2), d['valence']) for n1, n2, d in g.edges(data=True)])\n",
    "    node_labels = nx.get_node_attributes(g, 'type')\n",
    "    print(edge_labels)\n",
    "    print(node_labels)\n",
    "    #nx.draw(g, pos, labels=node_labels, edge_labels=edge_labels, node_size=500, node_color=node_color_lst)\n",
    "    nx.draw(g, pos, labels=node_labels, edge_labels=edge_labels, node_size=500)\n",
    "    nx.draw_networkx_edge_labels(g,pos,edge_labels=edge_labels)\n",
    "    pylab.show()\n",
    "\n",
    "\n",
    "\n",
    "def draw_id(g):\n",
    "    pos = nx.spring_layout(g)\n",
    "    edge_labels = dict([((n1, n2), d['valence']) for n1, n2, d in g.edges(data=True)])\n",
    "    node_labels = nx.get_node_attributes(g, 'label')\n",
    "    nx.draw(g,pos,labels=node_labels,edge_labels=edge_labels, node_size=500)\n",
    "    nx.draw_networkx_edge_labels(g,pos,edge_labels=edge_labels)\n",
    "    pylab.show()\n",
    "\n",
    "def draw(g):\n",
    "    draw_type(g)\n",
    "    draw_id(g)\n",
    "\n",
    "g = nx.read_gexf(path=\"./train/4.gexf\")\n",
    "print(str(g.number_of_nodes())+\" nodes:\\n\",list(g.nodes))\n",
    "print(str(g.number_of_edges())+\" edges:\\n\",list(g.edges))\n",
    "draw(g)"
   ]
  },
  {
   "cell_type": "code",
   "execution_count": null,
   "metadata": {
    "id": "XN8m01Hov7Eu",
    "outputId": "f8fd7aba-e2ce-46a3-bda0-39394cb11346",
    "pycharm": {
     "name": "#%%\n"
    }
   },
   "outputs": [],
   "source": [
    "for node in g.nodes:\n",
    "    print(g.nodes[node]['label'],'->', g.nodes[node]['type'])"
   ]
  },
  {
   "cell_type": "code",
   "execution_count": null,
   "metadata": {
    "id": "tb7mwZM7v7Ev",
    "outputId": "ba677342-494d-46f7-dbe9-49c233021e04",
    "pycharm": {
     "name": "#%%\n"
    }
   },
   "outputs": [],
   "source": [
    "prin)t(dict([((n1, n2), d['valence'])\n",
    "                    for n1, n2, d in g.edges(data=True)]))"
   ]
  },
  {
   "cell_type": "code",
   "execution_count": null,
   "metadata": {
    "id": "t38raFjzv7Ev",
    "outputId": "5aec7c6c-5f1d-4d7e-8caa-020ceaf514c0",
    "pycharm": {
     "name": "#%%\n"
    }
   },
   "outputs": [],
   "source": [
    "print(dict([(n1, d['type']) for n1,  d in g.nodes(data=True)]))"
   ]
  },
  {
   "cell_type": "code",
   "execution_count": null,
   "metadata": {
    "id": "jhSnZr4sv7Ew",
    "outputId": "0f5e88ef-7286-4bfa-80bb-7b391a8ad44e",
    "pycharm": {
     "name": "#%%\n"
    }
   },
   "outputs": [],
   "source": [
    "g.node['7']['type']"
   ]
  },
  {
   "cell_type": "code",
   "execution_count": null,
   "metadata": {
    "id": "Ir06oiDHv7Ew",
    "outputId": "01319ea8-59ab-448a-811d-15fc1be6a5b0",
    "pycharm": {
     "name": "#%%\n"
    }
   },
   "outputs": [],
   "source": [
    "nx.get_edge_attributes(g,'valence')"
   ]
  },
  {
   "cell_type": "code",
   "execution_count": 6,
   "metadata": {
    "id": "14y06MWNv7Ew",
    "outputId": "7f9f2fc8-6c1f-4300-bea7-d2a82557194e",
    "pycharm": {
     "name": "#%%\n"
    }
   },
   "outputs": [
    {
     "name": "stdout",
     "output_type": "stream",
     "text": [
      "->10092.gexf\n",
      "Edge Deletion 0\n",
      "Edge Insertion 0\n"
     ]
    },
    {
     "ename": "NameError",
     "evalue": "name 'random_node_relabeling' is not defined",
     "output_type": "error",
     "traceback": [
      "\u001b[1;31m---------------------------------------------------------------------------\u001b[0m",
      "\u001b[1;31mNameError\u001b[0m                                 Traceback (most recent call last)",
      "Cell \u001b[1;32mIn [6], line 26\u001b[0m\n\u001b[0;32m     24\u001b[0m \u001b[38;5;28mprint\u001b[39m(\u001b[38;5;124m\"\u001b[39m\u001b[38;5;124m->\u001b[39m\u001b[38;5;124m\"\u001b[39m\u001b[38;5;241m+\u001b[39mfilename)\n\u001b[0;32m     25\u001b[0m g \u001b[38;5;241m=\u001b[39m  nx\u001b[38;5;241m.\u001b[39mread_gexf(path\u001b[38;5;241m=\u001b[39mdirName\u001b[38;5;241m+\u001b[39m\u001b[38;5;124m\"\u001b[39m\u001b[38;5;130;01m\\\\\u001b[39;00m\u001b[38;5;124m\"\u001b[39m\u001b[38;5;241m+\u001b[39mfilename)\n\u001b[1;32m---> 26\u001b[0m gev_info \u001b[38;5;241m=\u001b[39m \u001b[43mGPG\u001b[49m\u001b[43m(\u001b[49m\u001b[43mg\u001b[49m\u001b[43m,\u001b[49m\u001b[43m \u001b[49m\u001b[43mrandom\u001b[49m\u001b[38;5;241;43m.\u001b[39;49m\u001b[43mrandint\u001b[49m\u001b[43m(\u001b[49m\u001b[38;5;241;43m0\u001b[39;49m\u001b[43m,\u001b[49m\u001b[43m \u001b[49m\u001b[38;5;241;43m5\u001b[39;49m\u001b[43m)\u001b[49m\u001b[43m,\u001b[49m\u001b[43mrandom\u001b[49m\u001b[38;5;241;43m.\u001b[39;49m\u001b[43mrandint\u001b[49m\u001b[43m(\u001b[49m\u001b[38;5;241;43m0\u001b[39;49m\u001b[43m,\u001b[49m\u001b[43m \u001b[49m\u001b[38;5;241;43m5\u001b[39;49m\u001b[43m)\u001b[49m\u001b[43m,\u001b[49m\u001b[43mrandom\u001b[49m\u001b[38;5;241;43m.\u001b[39;49m\u001b[43mrandint\u001b[49m\u001b[43m(\u001b[49m\u001b[38;5;241;43m0\u001b[39;49m\u001b[43m,\u001b[49m\u001b[43m \u001b[49m\u001b[38;5;241;43m5\u001b[39;49m\u001b[43m)\u001b[49m\u001b[43m,\u001b[49m\u001b[43mrandom\u001b[49m\u001b[38;5;241;43m.\u001b[39;49m\u001b[43mrandint\u001b[49m\u001b[43m(\u001b[49m\u001b[38;5;241;43m0\u001b[39;49m\u001b[43m,\u001b[49m\u001b[43m \u001b[49m\u001b[38;5;241;43m5\u001b[39;49m\u001b[43m)\u001b[49m\u001b[43m)\u001b[49m\n\u001b[0;32m     27\u001b[0m nx\u001b[38;5;241m.\u001b[39mwrite_gexf(G\u001b[38;5;241m=\u001b[39mg, path\u001b[38;5;241m=\u001b[39m\u001b[38;5;124m\"\u001b[39m\u001b[38;5;124m./export/\u001b[39m\u001b[38;5;124m\"\u001b[39m\u001b[38;5;241m+\u001b[39mfilename[:\u001b[38;5;241m-\u001b[39m\u001b[38;5;241m5\u001b[39m]\u001b[38;5;241m+\u001b[39mgev_info\u001b[38;5;241m+\u001b[39m\u001b[38;5;124m\"\u001b[39m\u001b[38;5;124m.gexf\u001b[39m\u001b[38;5;124m\"\u001b[39m)\n\u001b[0;32m     28\u001b[0m \u001b[38;5;28mprint\u001b[39m(\u001b[38;5;124m\"\u001b[39m\u001b[38;5;124m<-\u001b[39m\u001b[38;5;124m\"\u001b[39m\u001b[38;5;241m+\u001b[39mfilename[:\u001b[38;5;241m-\u001b[39m\u001b[38;5;241m5\u001b[39m]\u001b[38;5;241m+\u001b[39mgev_info\u001b[38;5;241m+\u001b[39m\u001b[38;5;124m\"\u001b[39m\u001b[38;5;124m.gexf\u001b[39m\u001b[38;5;124m\"\u001b[39m)\n",
      "Cell \u001b[1;32mIn [6], line 10\u001b[0m, in \u001b[0;36mGPG\u001b[1;34m(g, NR, NID, ER, EID)\u001b[0m\n\u001b[0;32m      8\u001b[0m \u001b[38;5;28mprint\u001b[39m(\u001b[38;5;124m\"\u001b[39m\u001b[38;5;124mEdge Deletion\u001b[39m\u001b[38;5;124m\"\u001b[39m,ED)\u001b[38;5;66;03m#max to the edge number?\u001b[39;00m\n\u001b[0;32m      9\u001b[0m \u001b[38;5;28mprint\u001b[39m(\u001b[38;5;124m\"\u001b[39m\u001b[38;5;124mEdge Insertion\u001b[39m\u001b[38;5;124m\"\u001b[39m,EID\u001b[38;5;241m-\u001b[39mED)\n\u001b[1;32m---> 10\u001b[0m NR \u001b[38;5;241m=\u001b[39m \u001b[43mrandom_node_relabeling\u001b[49m(g,NR)\n\u001b[0;32m     11\u001b[0m NID \u001b[38;5;241m=\u001b[39m random_node_insertion(g,NID)\n\u001b[0;32m     12\u001b[0m ED, Del_Edge \u001b[38;5;241m=\u001b[39m random_edge_deletion(g,ED)\n",
      "\u001b[1;31mNameError\u001b[0m: name 'random_node_relabeling' is not defined"
     ]
    }
   ],
   "source": [
    "g = nx.read_gexf(path=\"./train/4.gexf\")\n",
    "\n",
    "def GPG(g, NR, NID, ER, EID):\n",
    "    Del_Edge = []\n",
    "    G = g\n",
    "    ED = random.randint(0, EID)\n",
    "    # draw(g)\n",
    "    print(\"Edge Deletion\",ED)#max to the edge number?\n",
    "    print(\"Edge Insertion\",EID-ED)\n",
    "    NR = random_node_relabeling(g,NR)\n",
    "    NID = random_node_insertion(g,NID)\n",
    "    ED, Del_Edge = random_edge_deletion(g,ED)\n",
    "    ER = random_edge_relabeling(g,ER)\n",
    "    EI = random_edge_insertion(g,EID-ED, Del_Edge)\n",
    "    EID = EI +ED\n",
    "    print(\"NR,NID,ER,EI,ED: \",NR,NID,ER,EI,ED)\n",
    "    GEV = NR + NID + ER + EID\n",
    "    print(\"GEV_SUM:\", GEV)\n",
    "    gev_info = \"_NR_\"+str(NR)+\"_NID_\"+str(NID)+\"_ER_\"+str(ER)+\"_EID_\"+str(EID)\n",
    "    return gev_info\n",
    "\n",
    "for filename in filenames:\n",
    "    if filename.endswith(\".gexf\"):\n",
    "        print(\"->\"+filename)\n",
    "        g =  nx.read_gexf(path=dirName+\"\\\\\"+filename)\n",
    "        gev_info = GPG(g, random.randint(0, 5),random.randint(0, 5),random.randint(0, 5),random.randint(0, 5))\n",
    "        nx.write_gexf(G=g, path=\"./export/\"+filename[:-5]+gev_info+\".gexf\")\n",
    "        print(\"<-\"+filename[:-5]+gev_info+\".gexf\")\n",
    "\n",
    "# GPG(g, random.randint(0, 5),random.randint(0, 5),random.randint(0, 5),random.randint(0, 5))\n",
    "# draw_type(g)\n"
   ]
  },
  {
   "cell_type": "code",
   "execution_count": 7,
   "metadata": {
    "pycharm": {
     "name": "#%%\n"
    }
   },
   "outputs": [
    {
     "name": "stdout",
     "output_type": "stream",
     "text": [
      "ori 4 nr 0 nid 3 er 2 eid 2 gev 7\n",
      "nlm0 {'{\"O\": 1}': 6, '{\"S\": 1}': 2, '{\"C\": 1}': 2}\n",
      "nlm1 {'{\"S\": 1}': 6, '{\"O\": 3, \"C\": 1}': 2, '{\"S\": 1, \"C\": 1}': 1, '{\"C\": 1, \"S\": 1}': 1}\n"
     ]
    }
   ],
   "source": [
    "\n",
    "\n",
    "filename = \"4_NR_0_NID_3_ER_2_EID_2.gexf\"\n",
    "g = nx.read_gexf(path=\"./export/\"+filename)\n",
    "# draw(g)\n",
    "reg = re.sub(\".*NR_(?P<nr>\\d+)_NID_(?P<nid>\\d+)_ER_(?P<er>\\d+)_EID_(?P<eid>\\d+).gexf\", \"\\g<eid>\", filename)\n",
    "ori = re.sub(\"(?P<t>.+?)_.*\", \"\\g<t>\", filename)\n",
    "nr = int(re.sub(\".*NR_(?P<t>.+?)_.*\", \"\\g<t>\", filename))\n",
    "nid = int(re.sub(\".*NID_(?P<t>.+?)_.*\", \"\\g<t>\", filename))\n",
    "er =  int(re.sub(\".*ER_(?P<t>.+?)_.*\", \"\\g<t>\", filename))\n",
    "eid = int(re.sub(\".*EID_(?P<t>.+?).gexf\", \"\\g<t>\", filename))\n",
    "gev = nr+nid+er+eid\n",
    "print('ori',ori, 'nr',nr, 'nid',nid, 'er',er, 'eid',eid,'gev',gev)\n",
    "\n",
    "g_ori = nx.read_gexf(path=\"./train/\"+ori+\".gexf\")\n",
    "# draw(g_ori)\n",
    "# print(nx.adjacency_matrix(g))\n",
    "\n",
    "import json\n",
    "\n",
    "nlm0 ={}\n",
    "for node in g_ori.nodes():\n",
    "    t = g_ori.nodes[node]['type']\n",
    "    # print(t)\n",
    "    dic = {t:1}\n",
    "    str_key = json.dumps(dic)\n",
    "    if nlm0.get(str_key):\n",
    "        nlm0[str_key] = nlm0.get(str_key)+1\n",
    "    else:\n",
    "        nlm0[str_key] = 1\n",
    "\n",
    "print('nlm0',nlm0)\n",
    "\n",
    "nlm1 ={}\n",
    "for node in g_ori.nodes():\n",
    "    neighbors = [n for n in g_ori.neighbors(node)]\n",
    "    # print(neighbors)\n",
    "    dic = {}\n",
    "    for neighbor in neighbors:\n",
    "        t = g_ori.nodes[neighbor]['type']\n",
    "        # print(t)\n",
    "        if dic.get(t):\n",
    "            dic[t] = dic.get(t)+1\n",
    "        else:\n",
    "            dic[t] = 1\n",
    "\n",
    "    # print(dic)\n",
    "    # print(json.dumps(dic))\n",
    "    if nlm1.get(json.dumps(dic)):\n",
    "            nlm1[json.dumps(dic)] = nlm1.get(json.dumps(dic))+1\n",
    "    else:\n",
    "            nlm1[json.dumps(dic)] = 1\n",
    "\n",
    "    # print('----------------')\n",
    "print(\"nlm1\",nlm1)"
   ]
  },
  {
   "cell_type": "code",
   "execution_count": 8,
   "metadata": {
    "pycharm": {
     "name": "#%%\n"
    }
   },
   "outputs": [
    {
     "name": "stdout",
     "output_type": "stream",
     "text": [
      "elm0 {'{\"2\": 1}': 4, '{\"1\": 1}': 5}\n",
      "('7', '3')\n",
      "{'type': 'O', 'label': '7'}\n",
      "('3', '1')\n",
      "{'type': 'S', 'label': '3'}\n",
      "('3', '8')\n",
      "{'type': 'S', 'label': '3'}\n",
      "('3', '9')\n",
      "{'type': 'S', 'label': '3'}\n",
      "('5', '2')\n",
      "{'type': 'O', 'label': '5'}\n",
      "('6', '2')\n",
      "{'type': 'O', 'label': '6'}\n",
      "('1', '0')\n",
      "{'type': 'C', 'label': '1'}\n",
      "('0', '2')\n",
      "{'type': 'C', 'label': '0'}\n",
      "('4', '2')\n",
      "{'type': 'O', 'label': '4'}\n"
     ]
    },
    {
     "ename": "ValueError",
     "evalue": "Received invalid argument(s): edge_labels",
     "output_type": "error",
     "traceback": [
      "\u001b[1;31m---------------------------------------------------------------------------\u001b[0m",
      "\u001b[1;31mValueError\u001b[0m                                Traceback (most recent call last)",
      "Cell \u001b[1;32mIn [8], line 19\u001b[0m\n\u001b[0;32m     16\u001b[0m     \u001b[38;5;28mprint\u001b[39m(edge)\n\u001b[0;32m     17\u001b[0m     \u001b[38;5;28mprint\u001b[39m(g_ori\u001b[38;5;241m.\u001b[39mnodes[edge[\u001b[38;5;241m0\u001b[39m]])\n\u001b[1;32m---> 19\u001b[0m \u001b[43mdraw\u001b[49m\u001b[43m(\u001b[49m\u001b[43mg_ori\u001b[49m\u001b[43m)\u001b[49m\n",
      "Cell \u001b[1;32mIn [5], line 36\u001b[0m, in \u001b[0;36mdraw\u001b[1;34m(g)\u001b[0m\n\u001b[0;32m     35\u001b[0m \u001b[38;5;28;01mdef\u001b[39;00m \u001b[38;5;21mdraw\u001b[39m(g):\n\u001b[1;32m---> 36\u001b[0m     \u001b[43mdraw_type\u001b[49m\u001b[43m(\u001b[49m\u001b[43mg\u001b[49m\u001b[43m)\u001b[49m\n\u001b[0;32m     37\u001b[0m     draw_id(g)\n",
      "Cell \u001b[1;32mIn [5], line 21\u001b[0m, in \u001b[0;36mdraw_type\u001b[1;34m(g)\u001b[0m\n\u001b[0;32m     18\u001b[0m node_labels \u001b[38;5;241m=\u001b[39m nx\u001b[38;5;241m.\u001b[39mget_node_attributes(g, \u001b[38;5;124m'\u001b[39m\u001b[38;5;124mtype\u001b[39m\u001b[38;5;124m'\u001b[39m)\n\u001b[0;32m     20\u001b[0m \u001b[38;5;66;03m#nx.draw(g, pos, labels=node_labels, edge_labels=edge_labels, node_size=500, node_color=node_color_lst)\u001b[39;00m\n\u001b[1;32m---> 21\u001b[0m \u001b[43mnx\u001b[49m\u001b[38;5;241;43m.\u001b[39;49m\u001b[43mdraw\u001b[49m\u001b[43m(\u001b[49m\u001b[43mg\u001b[49m\u001b[43m,\u001b[49m\u001b[43m \u001b[49m\u001b[43mpos\u001b[49m\u001b[43m,\u001b[49m\u001b[43m \u001b[49m\u001b[43mlabels\u001b[49m\u001b[38;5;241;43m=\u001b[39;49m\u001b[43mnode_labels\u001b[49m\u001b[43m,\u001b[49m\u001b[43m \u001b[49m\u001b[43medge_labels\u001b[49m\u001b[38;5;241;43m=\u001b[39;49m\u001b[43medge_labels\u001b[49m\u001b[43m,\u001b[49m\u001b[43m \u001b[49m\u001b[43mnode_size\u001b[49m\u001b[38;5;241;43m=\u001b[39;49m\u001b[38;5;241;43m500\u001b[39;49m\u001b[43m)\u001b[49m\n\u001b[0;32m     22\u001b[0m nx\u001b[38;5;241m.\u001b[39mdraw_networkx_edge_labels(g,pos,edge_labels\u001b[38;5;241m=\u001b[39medge_labels)\n\u001b[0;32m     23\u001b[0m pylab\u001b[38;5;241m.\u001b[39mshow()\n",
      "File \u001b[1;32mC:\\Python310\\lib\\site-packages\\networkx\\drawing\\nx_pylab.py:121\u001b[0m, in \u001b[0;36mdraw\u001b[1;34m(G, pos, ax, **kwds)\u001b[0m\n\u001b[0;32m    118\u001b[0m \u001b[38;5;28;01mif\u001b[39;00m \u001b[38;5;124m\"\u001b[39m\u001b[38;5;124mwith_labels\u001b[39m\u001b[38;5;124m\"\u001b[39m \u001b[38;5;129;01mnot\u001b[39;00m \u001b[38;5;129;01min\u001b[39;00m kwds:\n\u001b[0;32m    119\u001b[0m     kwds[\u001b[38;5;124m\"\u001b[39m\u001b[38;5;124mwith_labels\u001b[39m\u001b[38;5;124m\"\u001b[39m] \u001b[38;5;241m=\u001b[39m \u001b[38;5;124m\"\u001b[39m\u001b[38;5;124mlabels\u001b[39m\u001b[38;5;124m\"\u001b[39m \u001b[38;5;129;01min\u001b[39;00m kwds\n\u001b[1;32m--> 121\u001b[0m draw_networkx(G, pos\u001b[38;5;241m=\u001b[39mpos, ax\u001b[38;5;241m=\u001b[39max, \u001b[38;5;241m*\u001b[39m\u001b[38;5;241m*\u001b[39mkwds)\n\u001b[0;32m    122\u001b[0m ax\u001b[38;5;241m.\u001b[39mset_axis_off()\n\u001b[0;32m    123\u001b[0m plt\u001b[38;5;241m.\u001b[39mdraw_if_interactive()\n",
      "File \u001b[1;32mC:\\Python310\\lib\\site-packages\\networkx\\drawing\\nx_pylab.py:294\u001b[0m, in \u001b[0;36mdraw_networkx\u001b[1;34m(G, pos, arrows, with_labels, **kwds)\u001b[0m\n\u001b[0;32m    292\u001b[0m \u001b[38;5;28;01mif\u001b[39;00m \u001b[38;5;28many\u001b[39m([k \u001b[38;5;129;01mnot\u001b[39;00m \u001b[38;5;129;01min\u001b[39;00m valid_kwds \u001b[38;5;28;01mfor\u001b[39;00m k \u001b[38;5;129;01min\u001b[39;00m kwds]):\n\u001b[0;32m    293\u001b[0m     invalid_args \u001b[38;5;241m=\u001b[39m \u001b[38;5;124m\"\u001b[39m\u001b[38;5;124m, \u001b[39m\u001b[38;5;124m\"\u001b[39m\u001b[38;5;241m.\u001b[39mjoin([k \u001b[38;5;28;01mfor\u001b[39;00m k \u001b[38;5;129;01min\u001b[39;00m kwds \u001b[38;5;28;01mif\u001b[39;00m k \u001b[38;5;129;01mnot\u001b[39;00m \u001b[38;5;129;01min\u001b[39;00m valid_kwds])\n\u001b[1;32m--> 294\u001b[0m     \u001b[38;5;28;01mraise\u001b[39;00m \u001b[38;5;167;01mValueError\u001b[39;00m(\u001b[38;5;124mf\u001b[39m\u001b[38;5;124m\"\u001b[39m\u001b[38;5;124mReceived invalid argument(s): \u001b[39m\u001b[38;5;132;01m{\u001b[39;00minvalid_args\u001b[38;5;132;01m}\u001b[39;00m\u001b[38;5;124m\"\u001b[39m)\n\u001b[0;32m    296\u001b[0m node_kwds \u001b[38;5;241m=\u001b[39m {k: v \u001b[38;5;28;01mfor\u001b[39;00m k, v \u001b[38;5;129;01min\u001b[39;00m kwds\u001b[38;5;241m.\u001b[39mitems() \u001b[38;5;28;01mif\u001b[39;00m k \u001b[38;5;129;01min\u001b[39;00m valid_node_kwds}\n\u001b[0;32m    297\u001b[0m edge_kwds \u001b[38;5;241m=\u001b[39m {k: v \u001b[38;5;28;01mfor\u001b[39;00m k, v \u001b[38;5;129;01min\u001b[39;00m kwds\u001b[38;5;241m.\u001b[39mitems() \u001b[38;5;28;01mif\u001b[39;00m k \u001b[38;5;129;01min\u001b[39;00m valid_edge_kwds}\n",
      "\u001b[1;31mValueError\u001b[0m: Received invalid argument(s): edge_labels"
     ]
    },
    {
     "data": {
      "image/png": "[encoded data removed]",
      "text/plain": [
       "<Figure size 640x480 with 1 Axes>"
      ]
     },
     "metadata": {},
     "output_type": "display_data"
    }
   ],
   "source": [
    "elm0 ={}\n",
    "for edge in g_ori.edges():\n",
    "    t = g_ori.edges[edge]['valence']\n",
    "    # print(t)\n",
    "    dic = {t:1}\n",
    "    str_key = json.dumps(dic)\n",
    "    if elm0.get(str_key):\n",
    "        elm0[str_key] = elm0.get(str_key)+1\n",
    "    else:\n",
    "        elm0[str_key] = 1\n",
    "\n",
    "print('elm0',elm0)\n",
    "\n",
    "elm1 ={}\n",
    "for edge in g_ori.edges():\n",
    "    print(edge)\n",
    "    print(g_ori.nodes[edge[0]])\n",
    "\n",
    "draw(g_ori)"
   ]
  },
  {
   "cell_type": "code",
   "execution_count": 3,
   "metadata": {
    "pycharm": {
     "name": "#%%\n"
    }
   },
   "outputs": [],
   "source": [
    "\n",
    "class TensorNetworkModule(torch.nn.Module):\n",
    "  def __init__(self, tensor_neurons, input_dim):\n",
    "    super(TensorNetworkModule, self).__init__()\n",
    "    self.input_dim = input_dim\n",
    "    self.tensor_neurons = tensor_neurons\n",
    "    self.setup_weights()\n",
    "    self.init_parameters()\n",
    "\n",
    "  def setup_weights(self):\n",
    "    self.weight_matrix = torch.nn.Parameter(torch.Tensor(self.input_dim, self.input_dim, self.tensor_neurons))\n",
    "    self.weight_matrix_block = torch.nn.Parameter(torch.Tensor(self.tensor_neurons, 2*self.input_dim))\n",
    "    self.bias = torch.nn.Parameter(torch.Tensor(self.tensor_neurons, 1))\n",
    "\n",
    "  def init_parameters(self):\n",
    "    torch.nn.init.xavier_uniform_(self.weight_matrix)\n",
    "    torch.nn.init.xavier_uniform_(self.weight_matrix_block)\n",
    "    torch.nn.init.xavier_uniform_(self.bias)\n",
    "\n",
    "  def forward(self, embedding_1, embedding_2):\n",
    "    scoring = torch.mm(torch.t(embedding_1), self.weight_matrix.view(self.input_dim, -1))\n",
    "    scoring = scoring.view(self.input_dim, self.tensor_neurons)\n",
    "    scoring = torch.mm(torch.t(scoring), embedding_2)\n",
    "    combined_representation = torch.cat((embedding_1, embedding_2))\n",
    "    block_scoring = torch.mm(self.weight_matrix_block, combined_representation)\n",
    "    scores = torch.nn.functional.relu(scoring + block_scoring + self.bias)\n",
    "    return scores\n",
    "\n",
    "def graph_aggregation_layer(adj, features):\n",
    "    hidden1 = torch.mm(adj, features)\n",
    "    hidden2 = torch.mm(adj, hidden1)\n",
    "    return hidden1, hidden2\n",
    "\n",
    "class TaGSim(torch.nn.Module):\n",
    "  def __init__(self, number_of_node_labels, number_of_edge_labels, tensor_neurons, bottle_neck_neurons):\n",
    "    super(TaGSim, self).__init__()\n",
    "    self.number_of_node_labels = len(number_of_node_labels)\n",
    "    self.number_of_edge_labels = len(number_of_edge_labels)\n",
    "    self.node_type = number_of_node_labels\n",
    "    self.edge_type = number_of_edge_labels\n",
    "    self.tensor_neurons = tensor_neurons\n",
    "    self.bottle_neck_neurons = bottle_neck_neurons\n",
    "    self.setup_layers()\n",
    "\n",
    "  def setup_layers(self):\n",
    "    self.feature_count = self.tensor_neurons\n",
    "\n",
    "    self.tensor_network_nc = TensorNetworkModule(self.tensor_neurons, 2*self.number_of_node_labels)\n",
    "    self.tensor_network_in = TensorNetworkModule(self.tensor_neurons, 2*self.number_of_node_labels)\n",
    "    self.tensor_network_ie = TensorNetworkModule(self.tensor_neurons, 2*self.number_of_node_labels)\n",
    "    self.tensor_network_ec = TensorNetworkModule(self.tensor_neurons, 2*self.number_of_edge_labels)\n",
    "\n",
    "    self.fully_connected_first_nc = torch.nn.Linear(self.feature_count, self.bottle_neck_neurons)\n",
    "    self.fully_connected_second_nc = torch.nn.Linear(self.bottle_neck_neurons, 8)\n",
    "    self.fully_connected_third_nc = torch.nn.Linear(8, 4)\n",
    "    self.scoring_layer_nc = torch.nn.Linear(4, 1)\n",
    "\n",
    "    self.fully_connected_first_in = torch.nn.Linear(self.feature_count, self.bottle_neck_neurons)\n",
    "    self.fully_connected_second_in = torch.nn.Linear(self.bottle_neck_neurons, 8)\n",
    "    self.fully_connected_third_in = torch.nn.Linear(8, 4)\n",
    "    self.scoring_layer_in = torch.nn.Linear(4, 1)\n",
    "\n",
    "    self.fully_connected_first_ie = torch.nn.Linear(self.feature_count, self.bottle_neck_neurons)\n",
    "    self.fully_connected_second_ie = torch.nn.Linear(self.bottle_neck_neurons, 8)\n",
    "    self.fully_connected_third_ie = torch.nn.Linear(8, 4)\n",
    "    self.scoring_layer_ie = torch.nn.Linear(4, 1)\n",
    "\n",
    "    self.fully_connected_first_ec = torch.nn.Linear(self.feature_count, self.bottle_neck_neurons)\n",
    "    self.fully_connected_second_ec = torch.nn.Linear(self.bottle_neck_neurons, 8)\n",
    "    self.fully_connected_third_ec = torch.nn.Linear(8, 4)\n",
    "    self.scoring_layer_ec = torch.nn.Linear(4, 1)\n",
    "\n",
    "\n",
    "  def gal_pass(self, edge_index, features):\n",
    "    hidden1 = self.gal1(features, edge_index)\n",
    "    hidden2 = self.gal2(hidden1, edge_index)\n",
    "\n",
    "    return hidden1, hidden2\n",
    "\n",
    "  def forward(self, label_multiset):\n",
    "    adj_1, adj_2 = torch.FloatTensor(np.array(label_multiset[\"node_index_1\"].todense())), torch.FloatTensor(np.array(label_multiset[\"node_index_2\"].todense()))\n",
    "    edge_adj_1, edge_adj_2 =  label_multiset[\"edge_adj_1\"], label_multiset[\"edge_adj_2\"]\n",
    "    node_features_1, node_features_2 = label_multiset[\"node_features_1\"], label_multiset[\"node_features_2\"]\n",
    "    edge_features_1, edge_features_2 = label_multiset[\"edge_features_1\"], label_multiset[\"edge_features_2\"]\n",
    "\n",
    "    #gal\n",
    "    graph1_hidden1, graph1_hidden2 = graph_aggregation_layer(adj_1, node_features_1)#original graph node\n",
    "    graph2_hidden1, graph2_hidden2 = graph_aggregation_layer(adj_2, node_features_2)#generated graph node\n",
    "    edge1_hidden1, edge1_hidden2 = graph_aggregation_layer(edge_adj_1, edge_features_1)#original edge node\n",
    "    edge2_hidden1, edge2_hidden2 = graph_aggregation_layer(edge_adj_2, edge_features_2)#generated graph edge\n",
    "    #node level embedding Concatenation\n",
    "    graph1_01concat = torch.cat([node_features_1, graph1_hidden1], dim=1)\n",
    "    graph2_01concat = torch.cat([node_features_2, graph2_hidden1], dim=1)\n",
    "    graph1_12concat = torch.cat([graph1_hidden1, graph1_hidden2], dim=1)\n",
    "    graph2_12concat = torch.cat([graph2_hidden1, graph2_hidden2], dim=1)\n",
    "    #graph pooling: node Sum\n",
    "    graph1_01pooled = torch.sum(graph1_01concat, dim=0).unsqueeze(1)\n",
    "    graph2_01pooled = torch.sum(graph2_01concat, dim=0).unsqueeze(1)\n",
    "    graph1_12pooled = torch.sum(graph1_12concat, dim=0).unsqueeze(1)\n",
    "    graph2_12pooled = torch.sum(graph2_12concat, dim=0).unsqueeze(1)\n",
    "    #edge level embedding Concatenation\n",
    "    edge1_01concat = torch.cat([edge_features_1, edge1_hidden1], dim=1)\n",
    "    edge2_01concat = torch.cat([edge_features_2, edge2_hidden1], dim=1)\n",
    "    #graph pooling: edge Sum\n",
    "    edge1_01pooled = torch.sum(edge1_01concat, dim=0).unsqueeze(1)\n",
    "    edge2_01pooled = torch.sum(edge2_01concat, dim=0).unsqueeze(1)\n",
    "\n",
    "    scores_nc = self.tensor_network_nc(graph1_01pooled, graph2_01pooled)\n",
    "    scores_nc = torch.t(scores_nc)\n",
    "\n",
    "    scores_nc = torch.nn.functional.relu(self.fully_connected_first_nc(scores_nc))\n",
    "    scores_nc = torch.nn.functional.relu(self.fully_connected_second_nc(scores_nc))\n",
    "    scores_nc = torch.nn.functional.relu(self.fully_connected_third_nc(scores_nc))\n",
    "    score_nc = torch.sigmoid(self.scoring_layer_nc(scores_nc))\n",
    "\n",
    "    scores_in = self.tensor_network_in(graph1_01pooled, graph2_01pooled)\n",
    "    scores_in = torch.t(scores_in)\n",
    "\n",
    "    scores_in = torch.nn.functional.relu(self.fully_connected_first_in(scores_in))\n",
    "    scores_in = torch.nn.functional.relu(self.fully_connected_second_in(scores_in))\n",
    "    scores_in = torch.nn.functional.relu(self.fully_connected_third_in(scores_in))\n",
    "    score_in = torch.sigmoid(self.scoring_layer_in(scores_in))\n",
    "\n",
    "    scores_ie = self.tensor_network_ie(graph1_12pooled, graph2_12pooled)\n",
    "    scores_ie = torch.t(scores_ie)\n",
    "\n",
    "    scores_ie = torch.nn.functional.relu(self.fully_connected_first_ie(scores_ie))\n",
    "    scores_ie = torch.nn.functional.relu(self.fully_connected_second_ie(scores_ie))\n",
    "    scores_ie = torch.nn.functional.relu(self.fully_connected_third_ie(scores_ie))\n",
    "    score_ie = torch.sigmoid(self.scoring_layer_ie(scores_ie))\n",
    "\n",
    "    scores_ec = self.tensor_network_ec(edge1_01pooled, edge2_01pooled)\n",
    "    scores_ec = torch.t(scores_ec)\n",
    "\n",
    "    scores_ec = torch.nn.functional.relu(self.fully_connected_first_ec(scores_ec))\n",
    "    scores_ec = torch.nn.functional.relu(self.fully_connected_second_ec(scores_ec))\n",
    "    scores_ec = torch.nn.functional.relu(self.fully_connected_third_ec(scores_ec))\n",
    "    score_ec = torch.sigmoid(self.scoring_layer_ec(scores_ec))\n",
    "\n",
    "    return torch.cat([score_nc, score_in, score_ie, score_ec], dim=1)\n",
    "\n",
    "  def transform_label_multiset(self, graph1, graph2, ged, type_specified=True):\n",
    "    #node and edge info of pair graph\n",
    "    node_info1 = nx.get_node_attributes(graph1, 'type')\n",
    "    node_info2 = nx.get_node_attributes(graph2, 'type')\n",
    "    edge_info1 = nx.get_edge_attributes(graph1, 'valence')\n",
    "    edge_info2 = nx.get_edge_attributes(graph2, 'valence')\n",
    "    nodes1 = list(graph1.nodes())\n",
    "    nodes2 = list(graph2.nodes())\n",
    "    edges1 = list(graph1.edges())\n",
    "    edges2 = list(graph2.edges())\n",
    "\n",
    "    label_multiset  = dict()\n",
    "    node_features_1, node_features_2, edge_features_1, edge_features_2, edge_adj_1, edge_adj_2 = [], [], [], [], [], []\n",
    "\n",
    "    for i in graph1.nodes():\n",
    "      node_features_1.append([1.0 if node_info1[i] == node else 0.0 for node in self.node_type])\n",
    "    for i in graph2.nodes():\n",
    "      node_features_2.append([1.0 if node_info2[i] == node else 0.0 for node in self.node_type])\n",
    "    node_features_1, node_features_2 = torch.FloatTensor(np.array(node_features_1)), torch.FloatTensor(np.array(node_features_2))\n",
    "\n",
    "    for i in edges1:\n",
    "      edge_features_1.append([1.0 if edge_info1[i] == edge else 0.0 for edge in self.edge_type])\n",
    "      adj_row = []\n",
    "      for d in edges1:\n",
    "          if(i == d):\n",
    "              adj_row.append(0.0)\n",
    "              continue\n",
    "          if((i[0] in d) | (i[1] in d)):\n",
    "              adj_row.append(1.0)\n",
    "          else:\n",
    "              adj_row.append(0.0)\n",
    "      edge_adj_1.append(adj_row)\n",
    "    for i in edges2:\n",
    "      edge_features_2.append([1.0 if edge_info2[i] == edge else 0.0 for edge in self.edge_type])\n",
    "      adj_row = []\n",
    "      for d in edges2:\n",
    "          if(i == d):\n",
    "              adj_row.append(0.0)\n",
    "              continue\n",
    "          if((i[0] in d) | (i[1] in d)):\n",
    "              adj_row.append(1.0)\n",
    "          else:\n",
    "              adj_row.append(0.0)\n",
    "      edge_adj_2.append(adj_row)\n",
    "    edge_features_1, edge_features_2 = torch.FloatTensor(np.array(edge_features_1)), torch.FloatTensor(np.array(edge_features_2))\n",
    "    edge_adj_1, edge_adj_2 = torch.FloatTensor(np.array(edge_adj_1)), torch.FloatTensor(np.array(edge_adj_2))\n",
    "\n",
    "    label_multiset[\"node_index_1\"], label_multiset[\"node_index_2\"] = nx.adjacency_matrix(graph1), nx.adjacency_matrix(graph2)\n",
    "    label_multiset[\"node_features_1\"], label_multiset[\"node_features_2\"] = node_features_1, node_features_2\n",
    "    label_multiset[\"edge_features_1\"], label_multiset[\"edge_features_2\"] = edge_features_1, edge_features_2\n",
    "    label_multiset[\"edge_adj_1\"], label_multiset[\"edge_adj_2\"] = edge_adj_1, edge_adj_2\n",
    "\n",
    "    #ged normalisation\n",
    "    if(type_specified):\n",
    "      norm_ged = [ged.count(key) / (0.5 * (graph1.number_of_nodes() + graph2.number_of_nodes())) for key in ['1', '2', '3', '4']]\n",
    "      norm_ged = np.array(norm_ged)\n",
    "      label_multiset[\"target\"] = torch.from_numpy(np.exp(-norm_ged)).view(1,-1).float()\n",
    "\n",
    "      norm_gt_ged = (len(ged)) / (0.5 * (graph1.number_of_nodes() + graph2.number_of_nodes()))\n",
    "      label_multiset[\"gt_ged\"] = torch.from_numpy(np.exp(-norm_gt_ged).reshape(1, 1)).view(1, -1).float()\n",
    "    else:\n",
    "      norm_gt_ged = (len(ged)) / (0.5 * (graph1.number_of_nodes() + graph2.number_of_nodes()))\n",
    "      label_multiset[\"gt_ged\"] = torch.from_numpy(np.exp(-norm_gt_ged).reshape(1, 1)).view(1, -1).float()\n",
    "\n",
    "    return label_multiset"
   ]
  },
  {
   "cell_type": "code",
   "execution_count": null,
   "metadata": {
    "id": "vOgHJ4VGv7Ex",
    "outputId": "4106fd47-0bf1-4599-93a3-281b7db511ba",
    "pycharm": {
     "name": "#%%\n"
    }
   },
   "outputs": [],
   "source": [
    "def random_node_relabeling(g, numbers):\n",
    "    if numbers > g.number_of_nodes():\n",
    "        numbers = g.number_of_nodes()\n",
    "\n",
    "    # draw_type(g)\n",
    "    i=1\n",
    "    lst = []\n",
    "\n",
    "    while i<=numbers:\n",
    "        # print(i,\"-th random_node_relabeling\")\n",
    "        n = random.choice(list(g.nodes))\n",
    "        assigned_type = random.choice(Node_Types)\n",
    "        # print(g.node[n], assigned_type, lst)\n",
    "        if (n in lst) or (g.node[n]['type'] == assigned_type):\n",
    "            continue\n",
    "        else:\n",
    "            g.node[n]['type'] = assigned_type\n",
    "            lst.append(n)\n",
    "            # print(g.node[n])\n",
    "            # draw_type(g)\n",
    "            i+=1\n",
    "    return numbers\n",
    "g = nx.read_gexf(path=\"./train/4.gexf\")\n",
    "print(random_node_relabeling(g,88))"
   ]
  },
  {
   "cell_type": "code",
   "execution_count": null,
   "metadata": {
    "id": "fnuI3FxGv7Ex",
    "outputId": "c820d936-0355-4a4d-b2ad-2177554c7293",
    "pycharm": {
     "name": "#%%\n"
    }
   },
   "outputs": [],
   "source": [
    "def random_edge_relabeling(g, numbers):\n",
    "    if numbers > g.number_of_edges():\n",
    "        numbers = g.number_of_edges()\n",
    "\n",
    "    # draw_type(g)\n",
    "    i=1\n",
    "    lst = []\n",
    "\n",
    "    while i<=numbers:\n",
    "        # print(i,\"-th random_edge_relabeling\")\n",
    "        n = random.choice(list(g.edges()))\n",
    "        assigned_type = random.choice(Edge_Types)\n",
    "        # print(g.edges[n], assigned_type, lst)\n",
    "        if (n in lst) or (g.edges[n]['valence'] == assigned_type):\n",
    "            continue\n",
    "        else:\n",
    "            g.edges[n]['valence'] = assigned_type\n",
    "            lst.append(n)\n",
    "            # print(g.edges[n])\n",
    "            # draw_type(g)\n",
    "            i+=1\n",
    "    return numbers\n",
    "g = nx.read_gexf(path=\"./train/4.gexf\")\n",
    "print(random_edge_relabeling(g,99))"
   ]
  },
  {
   "cell_type": "code",
   "execution_count": null,
   "metadata": {
    "id": "0zbkv2z3v7Ex",
    "outputId": "5f76ffff-9c87-4711-c084-9e4dae02cd2b",
    "pycharm": {
     "name": "#%%\n"
    }
   },
   "outputs": [],
   "source": [
    "def random_node_insertion(g, numbers):\n",
    "    i=1\n",
    "    while i<=numbers:\n",
    "        # print(i,\"-th random_node_insertion\")\n",
    "        new_id = max(list(map(int, g.nodes)))+1\n",
    "        g.add_node(str(new_id),label=str(new_id), type=random.choice(Node_Types))\n",
    "        # draw(g)\n",
    "        i+=1\n",
    "        # print(g.nodes)\n",
    "    return numbers\n",
    "\n",
    "g = nx.read_gexf(path=\"./train/4.gexf\")\n",
    "random_node_insertion(g,5)"
   ]
  },
  {
   "cell_type": "code",
   "execution_count": null,
   "metadata": {
    "id": "7hgxZNnRv7Ey",
    "outputId": "e0397948-bea8-4108-c525-7f99806ce718",
    "pycharm": {
     "name": "#%%\n"
    }
   },
   "outputs": [],
   "source": [
    "\n",
    "def random_edge_deletion(g, numbers):\n",
    "    Del_Edge = []\n",
    "    if numbers > g.number_of_edges():\n",
    "        numbers = g.number_of_edges()\n",
    "    i=1\n",
    "    while i<=numbers:\n",
    "        # print(i,\"-th random_edge_deletion\")\n",
    "        n = random.choice(list(g.edges()))\n",
    "        Del_Edge.append(n)\n",
    "        g.remove_edge(n[0], n[1])\n",
    "        # draw(g)\n",
    "        i+=1\n",
    "        # print(Del_Edge)\n",
    "        # print(g.edges)\n",
    "    return numbers, Del_Edge\n",
    "\n",
    "g = nx.read_gexf(path=\"./train/4.gexf\")\n",
    "n, arr = random_edge_deletion(g,99)\n",
    "print(n, arr)"
   ]
  },
  {
   "cell_type": "code",
   "execution_count": null,
   "metadata": {
    "id": "bi12dFD0v7Ey",
    "outputId": "0fb4f182-2384-4a4a-bf86-5ac325ed53de",
    "pycharm": {
     "name": "#%%\n"
    }
   },
   "outputs": [],
   "source": [
    "\n",
    "def random_edge_insertion(g, numbers, Del_Edge):\n",
    "    pairs = set(list(g.nodes()))\n",
    "    arr = []\n",
    "    lst = list(g.nodes())\n",
    "\n",
    "    for i in range(0,len(lst)):\n",
    "        for j in range(i+1,len(lst)):\n",
    "            arr.append((lst[i],lst[j]))\n",
    "    # print(arr)\n",
    "\n",
    "    ei_arr = list(set((a,b) if a<=b else (b,a) for a,b in arr))\n",
    "\n",
    "    for i in range(0,n):\n",
    "        for j in range(i+1,n):\n",
    "            ei_arr.append((str(i),str(j)))\n",
    "    # print(\"ei_arr\",ei_arr)\n",
    "    for edge in g.edges():\n",
    "        # print(\"edge\",edge)\n",
    "        if (edge[0], edge[1]) in ei_arr:\n",
    "            ei_arr.remove((edge[0],edge[1]))\n",
    "        else:\n",
    "            ei_arr.remove((edge[1],edge[0]))\n",
    "\n",
    "    for edge in Del_Edge:\n",
    "        if (edge[0], edge[1]) in ei_arr:\n",
    "            ei_arr.remove((edge[0],edge[1]))\n",
    "        else:\n",
    "            ei_arr.remove((edge[1],edge[0]))\n",
    "    max_edge = len(ei_arr)\n",
    "    # print(max_edge)\n",
    "\n",
    "    if numbers > max_edge:\n",
    "        numbers = max_edge\n",
    "\n",
    "    i=1\n",
    "    while i<=numbers:\n",
    "        # print(i,\"-th random_edge_insertion\")\n",
    "        r = random.sample(ei_arr,1)[0]\n",
    "        # print(r)\n",
    "        g.add_edge(r[0],r[1],valence=random.choice(Edge_Types))\n",
    "        ei_arr.remove(r)\n",
    "        # draw(g)\n",
    "        i+=1\n",
    "        # print(g.edges)\n",
    "    return numbers\n",
    "\n",
    "g = nx.read_gexf(path=\"./train/5327.gexf\")\n",
    "draw(g)\n",
    "ed, Del_Edge = random_edge_deletion(g,99)\n",
    "print(ed, type(Del_Edge))\n",
    "# Del_Edge=[]\n",
    "ei = random_edge_insertion(g,99,Del_Edge)\n",
    "draw(g)\n",
    "print(g.number_of_edges())\n",
    "print(\"ei: \", ei)"
   ]
  },
  {
   "cell_type": "code",
   "execution_count": null,
   "metadata": {
    "id": "vI3sMujJv7Ey",
    "pycharm": {
     "name": "#%%\n"
    }
   },
   "outputs": [],
   "source": [
    "g = nx.read_gexf(path=\"./train/4.gexf\")\n",
    "n = g.number_of_nodes()\n",
    "print(n)\n",
    "\n",
    "pairs = set(list(g.nodes()))\n",
    "arr = []\n",
    "lst = list(g.nodes())\n",
    "\n",
    "for i in range(0,len(lst)):\n",
    "    for j in range(i+1,len(lst)):\n",
    "        arr.append((lst[i],lst[j]))\n",
    "print(arr)\n",
    "\n",
    "ei_arr = list(set((a,b) if a<=b else (b,a) for a,b in arr))\n",
    "\n",
    "for i in range(0,n):\n",
    "    for j in range(i+1,n):\n",
    "        ei_arr.append((str(i),str(j)))\n",
    "\n",
    "for edge in g.edges():\n",
    "    if (edge[0], edge[1]) in ei_arr:\n",
    "        ei_arr.remove((edge[0],edge[1]))\n",
    "    else:\n",
    "        ei_arr.remove((edge[1],edge[0]))\n",
    "\n",
    "for edge in Del_Edge:\n",
    "    if (edge[0], edge[1]) in ei_arr:\n",
    "        ei_arr.remove((edge[0],edge[1]))\n",
    "    else:\n",
    "        ei_arr.remove((edge[1],edge[0]))\n",
    "\n",
    "\n",
    "\n",
    "\n",
    "\n",
    "print(ei_arr, len(ei_arr))"
   ]
  },
  {
   "cell_type": "code",
   "execution_count": null,
   "metadata": {
    "id": "k_wFQf9Dv7Ey",
    "pycharm": {
     "name": "#%%\n"
    }
   },
   "outputs": [],
   "source": [
    "print(g.edges())"
   ]
  },
  {
   "cell_type": "code",
   "execution_count": null,
   "metadata": {
    "id": "7KTIWnrHv7Ey",
    "pycharm": {
     "name": "#%%\n"
    }
   },
   "outputs": [],
   "source": []
  }
 ],
 "metadata": {
  "colab": {
   "provenance": []
  },
  "kernelspec": {
   "display_name": "Python 3",
   "language": "python",
   "name": "python3"
  },
  "language_info": {
   "codemirror_mode": {
    "name": "ipython",
    "version": 2
   },
   "file_extension": ".py",
   "mimetype": "text/x-python",
   "name": "python",
   "nbconvert_exporter": "python",
   "pygments_lexer": "ipython2",
   "version": "2.7.6"
  },
  "toc": {
   "base_numbering": 1,
   "nav_menu": {},
   "number_sections": true,
   "sideBar": true,
   "skip_h1_title": false,
   "title_cell": "Table of Contents",
   "title_sidebar": "Contents",
   "toc_cell": false,
   "toc_position": {},
   "toc_section_display": true,
   "toc_window_display": false
  }
 },
 "nbformat": 4,
 "nbformat_minor": 1
}
